{
 "cells": [
  {
   "cell_type": "markdown",
   "metadata": {},
   "source": [
    "This notebook contains examples for syncing memberships for different use cases. Before syncing memberships, ensure that all organisations have been imported."
   ]
  },
  {
   "cell_type": "code",
   "execution_count": null,
   "metadata": {
    "collapsed": true
   },
   "outputs": [],
   "source": [
    "import requests\n",
    "import gSheet_utils\n",
    "import searchCLI\n",
    "import membershipsUpdate_langs\n",
    "import personsUpdate_langs"
   ]
  },
  {
   "cell_type": "code",
   "execution_count": null,
   "metadata": {
    "collapsed": true
   },
   "outputs": [],
   "source": [
    "base_url = \"http://api.popit.sinarproject.org\"\n",
    "token = open('../oAuth/token_ms.txt').read()\n",
    "headers = {'Authorization': token.rstrip()}\n",
    "sub_langs = ['ms']"
   ]
  },
  {
   "cell_type": "markdown",
   "metadata": {},
   "source": [
    "## Importing Company memberships"
   ]
  },
  {
   "cell_type": "markdown",
   "metadata": {},
   "source": [
    "In the case of importing a govenment owned or linked private company, it is common that we might have a case where we'd split a company into child organisations as such:\n",
    "\n",
    "- CompanyX (the parent organisation)\n",
    "And its child organisations:\n",
    "\t- CompanyX_BOD (the Board of directors for the company)\n",
    "\t- CompanyX_management\n",
    "\n",
    "When filling in the memberships template, we'd have to specify the parent-child relationships as in the memberships_Company_template in the templates folder."
   ]
  },
  {
   "cell_type": "code",
   "execution_count": null,
   "metadata": {
    "collapsed": true
   },
   "outputs": [],
   "source": [
    "sheetID = 'gSheetID'"
   ]
  },
  {
   "cell_type": "markdown",
   "metadata": {},
   "source": [
    "In our example, we'll have a spreadsheet containing 3 sheets following the naming format of memberships_orgName-suborgName:\n",
    "- memberships_Company_X\n",
    "- memberships_Company_X-Board_of_Directors\n",
    "- memberships_Company_X-management\n",
    "\n",
    "We can get a list of all the sheet names in our spreadsheet as such:"
   ]
  },
  {
   "cell_type": "code",
   "execution_count": null,
   "metadata": {
    "collapsed": true
   },
   "outputs": [],
   "source": [
    "#Get a list of all sheet names in the spreadsheet\n",
    "sheetNames = gSheet_utils.getSheetNames(spreadsheetID)"
   ]
  },
  {
   "cell_type": "markdown",
   "metadata": {},
   "source": [
    "The first memberships_CompanyX sheet can be synced as usual with:"
   ]
  },
  {
   "cell_type": "code",
   "execution_count": null,
   "metadata": {
    "collapsed": true
   },
   "outputs": [],
   "source": [
    "sheetName = 'memberships_Company_X'\n",
    "\n",
    "df, col_AI_map = gSheet_utils.importGSheetAsDF(sheetID, sheetName)\n",
    "gSheet_details = {'sheetID':sheetID, 'sheetName': sheetName, 'col_AI_map': col_AI_map, 'sub_langs':sub_langs}\n",
    "\n",
    "#Get orgID of company by searching for it in Popit\n",
    "orgID = searchCLI.searchCLI(base_url, orgName, 'organizations', 'name', 'othernames')    \n",
    "#Import memberships under the orgID obtained\n",
    "df.apply(lambda row: membershipsUpdate_langs.genPayload(base_url, headers, row, orgID, gSheet_details, sub_langs), axis=1)"
   ]
  },
  {
   "cell_type": "markdown",
   "metadata": {},
   "source": [
    "However, for each of the suborganisations of Company X, we will have to import the memberships once under the suborganisation, and a second time under the parent organisation. For example, for the BOD suborganisation:"
   ]
  },
  {
   "cell_type": "code",
   "execution_count": 3,
   "metadata": {
    "collapsed": true
   },
   "outputs": [],
   "source": [
    "sheetName = 'memberships_Company_X-Board_of_Directors'\n",
    "\n",
    "#Import gSheet as df\n",
    "df, col_AI_map = gSheet_utils.importGSheetAsDF(sheetID, sheetName)\n",
    "gSheet_details = {'sheetID':sheetID, 'sheetName': sheetName, 'col_AI_map': col_AI_map, 'sub_langs':sub_langs}\n",
    "\n",
    "#Get name of org and parent org\n",
    "orgName = ' '.join(sheetName.split('memberships_')[1].split('_'))\n",
    "parentOrg = orgName.split('-')[0]\n",
    "\n",
    "#Import under child org\n",
    "orgID = searchCLI.searchCLI(base_url, orgName, 'organizations', 'name', 'othernames')    \n",
    "df.apply(lambda row: membershipsUpdate_langs.genPayload(base_url, headers, row, orgID, gSheet_details, sub_langs), axis=1)\n",
    "\n",
    "#Import under parent org\n",
    "orgID = searchCLI.searchCLI(base_url, parentOrg, 'organizations', 'name', 'othernames')    \n",
    "df.apply(lambda row: membershipsUpdate_langs.genPayload(base_url, headers, row, orgID, gSheet_details, sub_langs), axis=1)"
   ]
  },
  {
   "cell_type": "markdown",
   "metadata": {},
   "source": [
    "We repeat this for all suborganisations in the spreadsheet."
   ]
  },
  {
   "cell_type": "markdown",
   "metadata": {},
   "source": [
    "We can simplify this process as a loop over the entire spreadsheet, which will import once if it's the base org, and twice if it's a sub organisation."
   ]
  },
  {
   "cell_type": "code",
   "execution_count": 35,
   "metadata": {},
   "outputs": [],
   "source": [
    "#Get a list of all sheet names in the spreadsheet\n",
    "sheetNames = gSheet_utils.getSheetNames(spreadsheetID)\n",
    "\n",
    "for sheetName in sheetNames:\n",
    "    #Get name of org and parent org\n",
    "    orgName = ' '.join(sheetName.split('memberships_')[1].split('_'))\n",
    "    parentOrg = orgName.split('-')[0]\n",
    "    \n",
    "    #Import GSheet as df\n",
    "    df, col_AI_map = gSheet_utils.importGSheetAsDF(sheetID, sheetName)\n",
    "    gSheet_details = {'sheetID':sheetID, 'sheetName': sheetName, 'col_AI_map': col_AI_map, 'sub_langs':sub_langs}\n",
    "    \n",
    "    #If it's a sub org, import once under the parent org\n",
    "    if parentOrg!=orgName:     \n",
    "        orgID = searchCLI.searchCLI(base_url, parentOrg, 'organizations', 'name', 'othernames', []) #Find orgID from Popit\n",
    "        print(\"Importing for {}\".format(parentOrg)            \n",
    "        df.apply(lambda row: membershipsUpdate_langs.genPayload(base_url, headers, row, orgID, gSheet_details, sub_langs), axis=1)\n",
    "\n",
    "    #Import under the sub org\n",
    "    orgID = searchCLI.searchCLI(base_url, orgName, 'organizations', 'name', 'othernames', [])\n",
    "    print(\"Importing for {}\".format(orgName))            \n",
    "    df.apply(lambda row: membershipsUpdate_langs.genPayload(base_url, headers, row, orgID, gSheet_details, sub_langs), axis=1)\n",
    "\n",
    "\n",
    "\n",
    "\n"
   ]
  },
  {
   "cell_type": "markdown",
   "metadata": {},
   "source": [
    "## Importing Government Department Org memberships"
   ]
  },
  {
   "cell_type": "markdown",
   "metadata": {},
   "source": [
    "Government Department Orgs follow the pattern of having a parent department, and multiple sub-departments which vary from agency to agency.\n",
    "When filling in the memberships template, we'd have to specify the parent-child relationships as in the memberships_GovDepartment_template in the templates folder."
   ]
  },
  {
   "cell_type": "markdown",
   "metadata": {},
   "source": [
    "As we did for the Companies case, we would have to loop over the entire spreadsheet, importing memberships once if it's the base org, and twice if it's a sub organisation."
   ]
  },
  {
   "cell_type": "code",
   "execution_count": null,
   "metadata": {
    "collapsed": true
   },
   "outputs": [],
   "source": [
    "#Get a list of all sheet names in the spreadsheet\n",
    "sheetNames = gSheet_utils.getSheetNames(spreadsheetID)\n",
    "\n",
    "for sheetName in sheetNames:\n",
    "    #Get name of org and parent org\n",
    "    orgName = ' '.join(sheetName.split('memberships_')[1].split('_'))\n",
    "    parentOrg = orgName.split('-')[0]\n",
    "    \n",
    "    #Import GSheet as df\n",
    "    df, col_AI_map = gSheet_utils.importGSheetAsDF(sheetID, sheetName)\n",
    "    gSheet_details = {'sheetID':sheetID, 'sheetName': sheetName, 'col_AI_map': col_AI_map, 'sub_langs':sub_langs}\n",
    "    \n",
    "    #If it's a sub org, import once under the parent org\n",
    "    if parentOrg!=orgName:     \n",
    "        orgID = searchCLI.searchCLI(base_url, parentOrg, 'organizations', 'name', 'othernames', []) #Find orgID from Popit\n",
    "        print(\"Importing for {}\".format(parentOrg)            \n",
    "        df.apply(lambda row: membershipsUpdate_langs.genPayload(base_url, headers, row, orgID, gSheet_details, sub_langs), axis=1)\n",
    "\n",
    "    #Import under the sub org\n",
    "    orgID = searchCLI.searchCLI(base_url, orgName, 'organizations', 'name', 'othernames', [])\n",
    "    print(\"Importing for {}\".format(orgName))            \n",
    "    df.apply(lambda row: membershipsUpdate_langs.genPayload(base_url, headers, row, orgID, gSheet_details, sub_langs), axis=1)\n",
    "\n",
    "\n"
   ]
  }
 ],
 "metadata": {
  "kernelspec": {
   "display_name": "Python 3",
   "language": "python",
   "name": "python3"
  },
  "language_info": {
   "codemirror_mode": {
    "name": "ipython",
    "version": 3
   },
   "file_extension": ".py",
   "mimetype": "text/x-python",
   "name": "python",
   "nbconvert_exporter": "python",
   "pygments_lexer": "ipython3",
   "version": "3.6.1"
  }
 },
 "nbformat": 4,
 "nbformat_minor": 2
}
