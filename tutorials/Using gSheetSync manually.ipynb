{
 "cells": [
  {
   "cell_type": "markdown",
   "metadata": {},
   "source": [
    "This notebook demonstrates how to manually sync Gsheets data to the Popit database, as opposed to using the CLI."
   ]
  },
  {
   "cell_type": "code",
   "execution_count": null,
   "metadata": {
    "collapsed": true
   },
   "outputs": [],
   "source": [
    "import requests\n",
    "import gSheet_utils\n",
    "import searchCLI\n",
    "import membershipsUpdate_langs\n",
    "import personsUpdate_langs"
   ]
  },
  {
   "cell_type": "markdown",
   "metadata": {},
   "source": [
    "## Importing persons"
   ]
  },
  {
   "cell_type": "markdown",
   "metadata": {},
   "source": [
    "Set ID and name of Gsheet to import, along with Popit base details:"
   ]
  },
  {
   "cell_type": "code",
   "execution_count": null,
   "metadata": {
    "collapsed": true
   },
   "outputs": [],
   "source": [
    "sheetID = 'gSheetID'\n",
    "sheetName = 'MP_persons'\n",
    "\n",
    "base_url = \"http://api.popit.sinarproject.org\"\n",
    "token = open('../oAuth/token_ms.txt').read()\n",
    "headers = {'Authorization': token.rstrip()}\n",
    "sub_langs = ['ms']"
   ]
  },
  {
   "cell_type": "markdown",
   "metadata": {},
   "source": [
    "Import the Gsheet as a pandas df, and col_AI_map, a dictionary containing the mapping of column names to GSheet AI notation. Store this in gSheet_details, which we will pass into our personsUpdate script."
   ]
  },
  {
   "cell_type": "code",
   "execution_count": null,
   "metadata": {
    "collapsed": true
   },
   "outputs": [],
   "source": [
    "df, col_AI_map = gSheet_utils.importGSheetAsDF(sheetID, sheetName)\n",
    "gSheet_details = {'sheetID':sheetID, 'sheetName': sheetName, 'col_AI_map': col_AI_map, 'sub_langs':sub_langs}"
   ]
  },
  {
   "cell_type": "markdown",
   "metadata": {},
   "source": [
    "Finally, call the personsUpdate function, which updates persons details for the all supported language codes on the Popit database."
   ]
  },
  {
   "cell_type": "code",
   "execution_count": null,
   "metadata": {
    "collapsed": true
   },
   "outputs": [],
   "source": [
    "personsUpdate_langs.personsUpdate(df, base_url, headers, gSheet_details)                "
   ]
  },
  {
   "cell_type": "markdown",
   "metadata": {},
   "source": [
    "## Importing memberships"
   ]
  },
  {
   "cell_type": "code",
   "execution_count": null,
   "metadata": {
    "collapsed": true
   },
   "outputs": [],
   "source": [
    "sheetID = 'gSheetID'\n",
    "sheetName = 'memberships_Democratic_Party_of_X'\n",
    "\n",
    "\n",
    "#We can also change Popit details based on DB we're syncing to\n",
    "base_url = \"http://api.openhluttaw.org\"\n",
    "token = open('../oAuth/token_my.txt').read()\n",
    "headers = {'Authorization': token.rstrip()}\n",
    "sub_langs = ['my']\n",
    "\n",
    "df, col_AI_map = gSheet_utils.importGSheetAsDF(sheetID, sheetName)\n",
    "gSheet_details = {'sheetID':sheetID, 'sheetName': sheetName, 'col_AI_map': col_AI_map, 'sub_langs':sub_langs}"
   ]
  },
  {
   "cell_type": "markdown",
   "metadata": {},
   "source": [
    "The memberships sheets follow a naming format of memberships_organisationName, where spaces in the organisation names are replaced with an underscore. \n",
    "Eg. memberships_XYZ_Corp or memberships_Democratic_Party_of_X.\n",
    "\n",
    "We can get the org name as below,"
   ]
  },
  {
   "cell_type": "code",
   "execution_count": 18,
   "metadata": {},
   "outputs": [
    {
     "name": "stdout",
     "output_type": "stream",
     "text": [
      "Democratic Party of X\n"
     ]
    }
   ],
   "source": [
    "orgName = ' '.join(sheetName.split('memberships_')[1].split('_'))\n",
    "print(orgName)"
   ]
  },
  {
   "cell_type": "markdown",
   "metadata": {},
   "source": [
    "And search Popit to check if the organisation already exists in the DB."
   ]
  },
  {
   "cell_type": "code",
   "execution_count": null,
   "metadata": {
    "collapsed": true
   },
   "outputs": [],
   "source": [
    "orgID = searchCLI.searchCLI(base_url, orgName, 'organizations', 'name', 'othernames')    "
   ]
  },
  {
   "cell_type": "markdown",
   "metadata": {},
   "source": [
    "If the organisation does not exist, we import it in as a new organisation. We obtain the Popit ID for the organisation, which all the memberships in the spreadsheet will be tied to."
   ]
  },
  {
   "cell_type": "code",
   "execution_count": null,
   "metadata": {
    "collapsed": true
   },
   "outputs": [],
   "source": [
    "if not orgID:\n",
    "        orgP = {'name': orgName}\n",
    "        url = base_url+ \"/en/organizations/\"\n",
    "        r_en = requests.post(url, headers=headers, json=orgP)\n",
    "\n",
    "        if r_en.ok:\n",
    "            try:\n",
    "                orgID = r_en.json()['result']['id']\n",
    "            except KeyError:\n",
    "                orgID = r_en.json()['id']\n",
    "        else:\n",
    "            print(orgP)\n",
    "            print(r_en.content)"
   ]
  },
  {
   "cell_type": "markdown",
   "metadata": {},
   "source": [
    "Finally, we call the memberships update function on each membership entry in our dataframe, passing in the orgID we obtained earlier."
   ]
  },
  {
   "cell_type": "code",
   "execution_count": null,
   "metadata": {
    "collapsed": true
   },
   "outputs": [],
   "source": [
    "df.apply(lambda row: membershipsUpdate_langs.genPayload(base_url, headers, row, orgID, gSheet_details, sub_langs), axis=1)"
   ]
  },
  {
   "cell_type": "markdown",
   "metadata": {},
   "source": [
    "## Syncing all sheets in a memberships spreadsheet"
   ]
  },
  {
   "cell_type": "markdown",
   "metadata": {},
   "source": [
    "Depending on how you chose to structure your directories, you may have many memberships sheets contained to a single Google spreadsheet. We can run a loop to update all the sheets in one go without having to repeatedly specify the different sheetNames."
   ]
  },
  {
   "cell_type": "code",
   "execution_count": null,
   "metadata": {
    "collapsed": true
   },
   "outputs": [],
   "source": [
    "#Get a list of all sheet names in the spreadsheet\n",
    "sheetNames = gSheet_utils.getSheetNames(spreadsheetID)"
   ]
  },
  {
   "cell_type": "code",
   "execution_count": null,
   "metadata": {
    "collapsed": true
   },
   "outputs": [],
   "source": [
    "for sheetName in sheetNames:\n",
    "    orgName = ' '.join(sheetName.split('memberships_')[1].split('_'))\n",
    "    orgID = searchCLI.searchCLI(base_url, orgName, 'organizations', 'name', 'othernames', [])\n",
    "    print(\"Importing for {}\".format('orgName'))\n",
    "    \n",
    "    if not orgID: #if organisation doesn't exist in Popit\n",
    "            print(\"Adding org for {}\".format(orgName))\n",
    "            orgP = {'name': orgName}\n",
    "            url = base_url+ \"/en/organizations/\"\n",
    "            r_en = requests.post(url, headers=headers, json=orgP)\n",
    "            \n",
    "            if r_en.ok:\n",
    "                try:\n",
    "                    orgID = r_en.json()['result']['id']\n",
    "                except KeyError:\n",
    "                    orgID = r_en.json()['id']\n",
    "            else:\n",
    "                print(orgP)\n",
    "                print(r_en.content)\n",
    "                \n",
    "    df, col_AI_map = gSheet_utils.importGSheetAsDF(sheetID, sheetName)\n",
    "    gSheet_details = {'sheetID':sheetID, 'sheetName': sheetName, 'col_AI_map': col_AI_map, 'sub_langs':sub_langs}\n",
    "    df.apply(lambda row: membershipsUpdate_langs.genPayload(base_url, headers, row, orgID, gSheet_details, sub_langs), axis=1)\n"
   ]
  }
 ],
 "metadata": {
  "kernelspec": {
   "display_name": "Python 3",
   "language": "python",
   "name": "python3"
  },
  "language_info": {
   "codemirror_mode": {
    "name": "ipython",
    "version": 3
   },
   "file_extension": ".py",
   "mimetype": "text/x-python",
   "name": "python",
   "nbconvert_exporter": "python",
   "pygments_lexer": "ipython3",
   "version": "3.6.1"
  }
 },
 "nbformat": 4,
 "nbformat_minor": 2
}
